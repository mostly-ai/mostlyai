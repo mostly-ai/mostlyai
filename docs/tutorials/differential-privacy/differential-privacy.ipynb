{
 "cells": [
  {
   "cell_type": "markdown",
   "id": "b2381157-7e39-4fd1-8ede-4e81ac9ff2a8",
   "metadata": {},
   "source": [
    "# Differentially Private Synthetic Data\n",
    "\n",
    "[![Run on Colab](https://img.shields.io/badge/Open%20in-Colab-blue?logo=google-colab)](https://colab.research.google.com/github/mostly-ai/mostlyai/blob/main/docs/tutorials/differential-privacy/differential-privacy.ipynb)\n",
    "\n",
    "In this notebook, we demonstrate how a generator can be trained with differential privacy guarantees, and explore how the various settings can impact the data fidelity.\n",
    "\n",
    "For further background and analysis see also [this blog post](https://mostly.ai/blog/differentially-private-synthetic-data-with-mostly-ai) on \"_Differentially Private Synthetic Data with MOSTLY AI_\"."
   ]
  },
  {
   "cell_type": "code",
   "execution_count": null,
   "id": "8497f8f5-0137-4bd6-aef8-dd1683c12bb4",
   "metadata": {},
   "outputs": [],
   "source": [
    "#!pip install -U 'mostlyai[local]'"
   ]
  },
  {
   "cell_type": "markdown",
   "id": "e42b8878-e345-406b-8ff2-500a87740906",
   "metadata": {},
   "source": [
    "## Load Original Data"
   ]
  },
  {
   "cell_type": "code",
   "execution_count": 1,
   "id": "b131403d-1b60-4f36-a712-a96fe3a526c4",
   "metadata": {},
   "outputs": [
    {
     "data": {
      "text/html": [
       "<div>\n",
       "<style scoped>\n",
       "    .dataframe tbody tr th:only-of-type {\n",
       "        vertical-align: middle;\n",
       "    }\n",
       "\n",
       "    .dataframe tbody tr th {\n",
       "        vertical-align: top;\n",
       "    }\n",
       "\n",
       "    .dataframe thead th {\n",
       "        text-align: right;\n",
       "    }\n",
       "</style>\n",
       "<table border=\"1\" class=\"dataframe\">\n",
       "  <thead>\n",
       "    <tr style=\"text-align: right;\">\n",
       "      <th></th>\n",
       "      <th>age</th>\n",
       "      <th>workclass</th>\n",
       "      <th>fnlwgt</th>\n",
       "      <th>education</th>\n",
       "      <th>education_num</th>\n",
       "      <th>marital_status</th>\n",
       "      <th>occupation</th>\n",
       "      <th>relationship</th>\n",
       "      <th>race</th>\n",
       "      <th>sex</th>\n",
       "      <th>capital_gain</th>\n",
       "      <th>capital_loss</th>\n",
       "      <th>hours_per_week</th>\n",
       "      <th>native_country</th>\n",
       "      <th>income</th>\n",
       "    </tr>\n",
       "  </thead>\n",
       "  <tbody>\n",
       "    <tr>\n",
       "      <th>0</th>\n",
       "      <td>39</td>\n",
       "      <td>State-gov</td>\n",
       "      <td>77516</td>\n",
       "      <td>Bachelors</td>\n",
       "      <td>13</td>\n",
       "      <td>Never-married</td>\n",
       "      <td>Adm-clerical</td>\n",
       "      <td>Not-in-family</td>\n",
       "      <td>White</td>\n",
       "      <td>Male</td>\n",
       "      <td>2174</td>\n",
       "      <td>0</td>\n",
       "      <td>40</td>\n",
       "      <td>United-States</td>\n",
       "      <td>&lt;=50K</td>\n",
       "    </tr>\n",
       "    <tr>\n",
       "      <th>1</th>\n",
       "      <td>50</td>\n",
       "      <td>Self-emp-not-inc</td>\n",
       "      <td>83311</td>\n",
       "      <td>Bachelors</td>\n",
       "      <td>13</td>\n",
       "      <td>Married-civ-spouse</td>\n",
       "      <td>Exec-managerial</td>\n",
       "      <td>Husband</td>\n",
       "      <td>White</td>\n",
       "      <td>Male</td>\n",
       "      <td>0</td>\n",
       "      <td>0</td>\n",
       "      <td>13</td>\n",
       "      <td>United-States</td>\n",
       "      <td>&lt;=50K</td>\n",
       "    </tr>\n",
       "    <tr>\n",
       "      <th>2</th>\n",
       "      <td>38</td>\n",
       "      <td>Private</td>\n",
       "      <td>215646</td>\n",
       "      <td>HS-grad</td>\n",
       "      <td>9</td>\n",
       "      <td>Divorced</td>\n",
       "      <td>Handlers-cleaners</td>\n",
       "      <td>Not-in-family</td>\n",
       "      <td>White</td>\n",
       "      <td>Male</td>\n",
       "      <td>0</td>\n",
       "      <td>0</td>\n",
       "      <td>40</td>\n",
       "      <td>United-States</td>\n",
       "      <td>&lt;=50K</td>\n",
       "    </tr>\n",
       "    <tr>\n",
       "      <th>3</th>\n",
       "      <td>53</td>\n",
       "      <td>Private</td>\n",
       "      <td>234721</td>\n",
       "      <td>11th</td>\n",
       "      <td>7</td>\n",
       "      <td>Married-civ-spouse</td>\n",
       "      <td>Handlers-cleaners</td>\n",
       "      <td>Husband</td>\n",
       "      <td>Black</td>\n",
       "      <td>Male</td>\n",
       "      <td>0</td>\n",
       "      <td>0</td>\n",
       "      <td>40</td>\n",
       "      <td>United-States</td>\n",
       "      <td>&lt;=50K</td>\n",
       "    </tr>\n",
       "    <tr>\n",
       "      <th>4</th>\n",
       "      <td>28</td>\n",
       "      <td>Private</td>\n",
       "      <td>338409</td>\n",
       "      <td>Bachelors</td>\n",
       "      <td>13</td>\n",
       "      <td>Married-civ-spouse</td>\n",
       "      <td>Prof-specialty</td>\n",
       "      <td>Wife</td>\n",
       "      <td>Black</td>\n",
       "      <td>Female</td>\n",
       "      <td>0</td>\n",
       "      <td>0</td>\n",
       "      <td>40</td>\n",
       "      <td>Cuba</td>\n",
       "      <td>&lt;=50K</td>\n",
       "    </tr>\n",
       "  </tbody>\n",
       "</table>\n",
       "</div>"
      ],
      "text/plain": [
       "   age         workclass  fnlwgt  education  education_num  \\\n",
       "0   39         State-gov   77516  Bachelors             13   \n",
       "1   50  Self-emp-not-inc   83311  Bachelors             13   \n",
       "2   38           Private  215646    HS-grad              9   \n",
       "3   53           Private  234721       11th              7   \n",
       "4   28           Private  338409  Bachelors             13   \n",
       "\n",
       "       marital_status         occupation   relationship   race     sex  \\\n",
       "0       Never-married       Adm-clerical  Not-in-family  White    Male   \n",
       "1  Married-civ-spouse    Exec-managerial        Husband  White    Male   \n",
       "2            Divorced  Handlers-cleaners  Not-in-family  White    Male   \n",
       "3  Married-civ-spouse  Handlers-cleaners        Husband  Black    Male   \n",
       "4  Married-civ-spouse     Prof-specialty           Wife  Black  Female   \n",
       "\n",
       "   capital_gain  capital_loss  hours_per_week native_country income  \n",
       "0          2174             0              40  United-States  <=50K  \n",
       "1             0             0              13  United-States  <=50K  \n",
       "2             0             0              40  United-States  <=50K  \n",
       "3             0             0              40  United-States  <=50K  \n",
       "4             0             0              40           Cuba  <=50K  "
      ]
     },
     "execution_count": 1,
     "metadata": {},
     "output_type": "execute_result"
    }
   ],
   "source": [
    "import pandas as pd\n",
    "\n",
    "# fetch original data\n",
    "df_original = pd.read_csv(\"https://github.com/mostly-ai/public-demo-data/raw/dev/census/census.csv.gz\")\n",
    "df_original.head(5)"
   ]
  },
  {
   "cell_type": "markdown",
   "id": "5c15f89f-0fa6-417b-8048-589be5f651f3",
   "metadata": {},
   "source": [
    "## Train Generators with and without Differential Privacy"
   ]
  },
  {
   "cell_type": "code",
   "execution_count": 2,
   "id": "c8c4a141-d2b5-491d-9406-dc5ae498402c",
   "metadata": {},
   "outputs": [
    {
     "data": {
      "text/html": [
       "<pre style=\"white-space:pre;overflow-x:auto;line-height:normal;font-family:Menlo,'DejaVu Sans Mono',consolas,'Courier New',monospace\">Starting server on <a href=\"http://127.0.0.1:64019\" target=\"_blank\"><span style=\"color: #0000ff; text-decoration-color: #0000ff; text-decoration: underline\">http://127.0.0.1:64019</span></a> using <a href=\"file:///Users/mplatzer/mostlyai\" target=\"_blank\"><span style=\"color: #0000ff; text-decoration-color: #0000ff; text-decoration: underline\">file:///Users/mplatzer/mostlyai</span></a>\n",
       "</pre>\n"
      ],
      "text/plain": [
       "Starting server on \u001b]8;id=990943;http://127.0.0.1:64019\u001b\\\u001b[4;94mhttp://127.0.0.1:64019\u001b[0m\u001b]8;;\u001b\\ using \u001b]8;id=800653;file:///Users/mplatzer/mostlyai\u001b\\\u001b[4;94mfile:///Users/mplatzer/mostlyai\u001b[0m\u001b]8;;\u001b\\\n"
      ]
     },
     "metadata": {},
     "output_type": "display_data"
    },
    {
     "data": {
      "text/html": [
       "<pre style=\"white-space:pre;overflow-x:auto;line-height:normal;font-family:Menlo,'DejaVu Sans Mono',consolas,'Courier New',monospace\">Connected to <a href=\"http://127.0.0.1:64019\" target=\"_blank\"><span style=\"color: #0000ff; text-decoration-color: #0000ff; text-decoration: underline\">http://127.0.0.1:64019</span></a> <span style=\"font-weight: bold\">(</span><span style=\"color: #008080; text-decoration-color: #008080; font-weight: bold\">4.0</span>.<span style=\"color: #008080; text-decoration-color: #008080; font-weight: bold\">4</span><span style=\"font-weight: bold\">)</span>\n",
       "</pre>\n"
      ],
      "text/plain": [
       "Connected to \u001b]8;id=727316;http://127.0.0.1:64019\u001b\\\u001b[4;94mhttp://127.0.0.1:64019\u001b[0m\u001b]8;;\u001b\\ \u001b[1m(\u001b[0m\u001b[1;36m4.0\u001b[0m.\u001b[1;36m4\u001b[0m\u001b[1m)\u001b[0m\n"
      ]
     },
     "metadata": {},
     "output_type": "display_data"
    }
   ],
   "source": [
    "from mostlyai.sdk import MostlyAI\n",
    "\n",
    "# initialize SDK\n",
    "mostly = MostlyAI(local=True)  # or: MostlyAI(base_url='xxx', api_key='xxx')"
   ]
  },
  {
   "cell_type": "markdown",
   "id": "6f40d343-4475-4d59-8bde-e8952f360ef0",
   "metadata": {},
   "source": [
    "Train a generator without DP until fully converged."
   ]
  },
  {
   "cell_type": "code",
   "execution_count": 3,
   "id": "d5b6d500-5bf5-4902-8bc5-828bc6864c3b",
   "metadata": {},
   "outputs": [
    {
     "data": {
      "text/html": [
       "<pre style=\"white-space:pre;overflow-x:auto;line-height:normal;font-family:Menlo,'DejaVu Sans Mono',consolas,'Courier New',monospace\">Created generator <a href=\"http://127.0.0.1:64019/d/generators/bb3ef76c-0de2-4e5e-9035-15c468d9e7f6\" target=\"_blank\"><span style=\"color: #000080; text-decoration-color: #000080; text-decoration: underline\">bb3ef76c-0de2-4e5e-9035-15c468d9e7f6</span></a>\n",
       "</pre>\n"
      ],
      "text/plain": [
       "Created generator \u001b]8;id=35028;http://127.0.0.1:64019/d/generators/bb3ef76c-0de2-4e5e-9035-15c468d9e7f6\u001b\\\u001b[4;34mbb3ef76c-0de2-4e5e-9035-15c468d9e7f6\u001b[0m\u001b]8;;\u001b\\\n"
      ]
     },
     "metadata": {},
     "output_type": "display_data"
    },
    {
     "data": {
      "text/html": [
       "<pre style=\"white-space:pre;overflow-x:auto;line-height:normal;font-family:Menlo,'DejaVu Sans Mono',consolas,'Courier New',monospace\">Started generator training\n",
       "</pre>\n"
      ],
      "text/plain": [
       "Started generator training\n"
      ]
     },
     "metadata": {},
     "output_type": "display_data"
    },
    {
     "data": {
      "application/vnd.jupyter.widget-view+json": {
       "model_id": "065b439f6b1e46d9aa3b08d719b0f247",
       "version_major": 2,
       "version_minor": 0
      },
      "text/plain": [
       "Output()"
      ]
     },
     "metadata": {},
     "output_type": "display_data"
    },
    {
     "data": {
      "text/html": [
       "<pre style=\"white-space:pre;overflow-x:auto;line-height:normal;font-family:Menlo,'DejaVu Sans Mono',consolas,'Courier New',monospace\"></pre>\n"
      ],
      "text/plain": []
     },
     "metadata": {},
     "output_type": "display_data"
    },
    {
     "data": {
      "text/html": [
       "<pre style=\"white-space:pre;overflow-x:auto;line-height:normal;font-family:Menlo,'DejaVu Sans Mono',consolas,'Courier New',monospace\">🎉 <span style=\"color: #008000; text-decoration-color: #008000; font-weight: bold\">Your generator is ready!</span> Use it to create synthetic data. Publish it so others can do the same.\n",
       "</pre>\n"
      ],
      "text/plain": [
       "🎉 \u001b[1;32mYour generator is ready!\u001b[0m Use it to create synthetic data. Publish it so others can do the same.\n"
      ]
     },
     "metadata": {},
     "output_type": "display_data"
    }
   ],
   "source": [
    "g_no_dp = mostly.train(\n",
    "    config={\n",
    "        \"name\": \"US Census without DP - full\",\n",
    "        \"tables\": [\n",
    "            {\n",
    "                \"name\": \"census\",\n",
    "                \"data\": df_original,\n",
    "            }\n",
    "        ],\n",
    "    },\n",
    ")"
   ]
  },
  {
   "cell_type": "markdown",
   "id": "b6cd29a3-9dfe-4afc-8613-758ca2395886",
   "metadata": {},
   "source": [
    "Train a generator without DP, but limited to 5 epochs."
   ]
  },
  {
   "cell_type": "code",
   "execution_count": 4,
   "id": "004c60a8-a6cc-4bf6-b4e6-fe478591b078",
   "metadata": {},
   "outputs": [
    {
     "data": {
      "text/html": [
       "<pre style=\"white-space:pre;overflow-x:auto;line-height:normal;font-family:Menlo,'DejaVu Sans Mono',consolas,'Courier New',monospace\">Created generator <a href=\"http://127.0.0.1:64019/d/generators/1452ae7e-a603-46e7-8e0c-d8e7136ad22f\" target=\"_blank\"><span style=\"color: #000080; text-decoration-color: #000080; text-decoration: underline\">1452ae7e-a603-46e7-8e0c-d8e7136ad22f</span></a>\n",
       "</pre>\n"
      ],
      "text/plain": [
       "Created generator \u001b]8;id=574631;http://127.0.0.1:64019/d/generators/1452ae7e-a603-46e7-8e0c-d8e7136ad22f\u001b\\\u001b[4;34m1452ae7e-a603-46e7-8e0c-d8e7136ad22f\u001b[0m\u001b]8;;\u001b\\\n"
      ]
     },
     "metadata": {},
     "output_type": "display_data"
    },
    {
     "data": {
      "text/html": [
       "<pre style=\"white-space:pre;overflow-x:auto;line-height:normal;font-family:Menlo,'DejaVu Sans Mono',consolas,'Courier New',monospace\">Started generator training\n",
       "</pre>\n"
      ],
      "text/plain": [
       "Started generator training\n"
      ]
     },
     "metadata": {},
     "output_type": "display_data"
    },
    {
     "data": {
      "application/vnd.jupyter.widget-view+json": {
       "model_id": "82d5e16f4fad42388ed755664c08ed6b",
       "version_major": 2,
       "version_minor": 0
      },
      "text/plain": [
       "Output()"
      ]
     },
     "metadata": {},
     "output_type": "display_data"
    },
    {
     "data": {
      "text/html": [
       "<pre style=\"white-space:pre;overflow-x:auto;line-height:normal;font-family:Menlo,'DejaVu Sans Mono',consolas,'Courier New',monospace\"></pre>\n"
      ],
      "text/plain": []
     },
     "metadata": {},
     "output_type": "display_data"
    },
    {
     "data": {
      "text/html": [
       "<pre style=\"white-space:pre;overflow-x:auto;line-height:normal;font-family:Menlo,'DejaVu Sans Mono',consolas,'Courier New',monospace\">🎉 <span style=\"color: #008000; text-decoration-color: #008000; font-weight: bold\">Your generator is ready!</span> Use it to create synthetic data. Publish it so others can do the same.\n",
       "</pre>\n"
      ],
      "text/plain": [
       "🎉 \u001b[1;32mYour generator is ready!\u001b[0m Use it to create synthetic data. Publish it so others can do the same.\n"
      ]
     },
     "metadata": {},
     "output_type": "display_data"
    }
   ],
   "source": [
    "g_no_dp_e5 = mostly.train(\n",
    "    config={\n",
    "        \"name\": \"US Census without DP - 5 epochs\",\n",
    "        \"tables\": [\n",
    "            {\n",
    "                \"name\": \"census\",\n",
    "                \"data\": df_original,\n",
    "                \"tabular_model_configuration\": {\n",
    "                    \"max_epochs\": 5,\n",
    "                },\n",
    "            }\n",
    "        ],\n",
    "    },\n",
    ")"
   ]
  },
  {
   "cell_type": "markdown",
   "id": "2e35b1f8-7abe-472b-a83a-1b05ac785225",
   "metadata": {},
   "source": [
    "Train a generator with DP, keeping all defaults."
   ]
  },
  {
   "cell_type": "code",
   "execution_count": 5,
   "id": "19ae87e6-7431-488c-8aed-b612fe6b88b1",
   "metadata": {},
   "outputs": [
    {
     "data": {
      "text/html": [
       "<pre style=\"white-space:pre;overflow-x:auto;line-height:normal;font-family:Menlo,'DejaVu Sans Mono',consolas,'Courier New',monospace\">Created generator <a href=\"http://127.0.0.1:64019/d/generators/7a6f3ce4-ee43-4c99-8631-6076b5ca6698\" target=\"_blank\"><span style=\"color: #000080; text-decoration-color: #000080; text-decoration: underline\">7a6f3ce4-ee43-4c99-8631-6076b5ca6698</span></a>\n",
       "</pre>\n"
      ],
      "text/plain": [
       "Created generator \u001b]8;id=960216;http://127.0.0.1:64019/d/generators/7a6f3ce4-ee43-4c99-8631-6076b5ca6698\u001b\\\u001b[4;34m7a6f3ce4-ee43-4c99-8631-6076b5ca6698\u001b[0m\u001b]8;;\u001b\\\n"
      ]
     },
     "metadata": {},
     "output_type": "display_data"
    },
    {
     "data": {
      "text/html": [
       "<pre style=\"white-space:pre;overflow-x:auto;line-height:normal;font-family:Menlo,'DejaVu Sans Mono',consolas,'Courier New',monospace\">Started generator training\n",
       "</pre>\n"
      ],
      "text/plain": [
       "Started generator training\n"
      ]
     },
     "metadata": {},
     "output_type": "display_data"
    },
    {
     "data": {
      "application/vnd.jupyter.widget-view+json": {
       "model_id": "6f51cf5920a34cecb80d73f7bd8daf7c",
       "version_major": 2,
       "version_minor": 0
      },
      "text/plain": [
       "Output()"
      ]
     },
     "metadata": {},
     "output_type": "display_data"
    },
    {
     "data": {
      "text/html": [
       "<pre style=\"white-space:pre;overflow-x:auto;line-height:normal;font-family:Menlo,'DejaVu Sans Mono',consolas,'Courier New',monospace\"></pre>\n"
      ],
      "text/plain": []
     },
     "metadata": {},
     "output_type": "display_data"
    },
    {
     "data": {
      "text/html": [
       "<pre style=\"white-space:pre;overflow-x:auto;line-height:normal;font-family:Menlo,'DejaVu Sans Mono',consolas,'Courier New',monospace\">🎉 <span style=\"color: #008000; text-decoration-color: #008000; font-weight: bold\">Your generator is ready!</span> Use it to create synthetic data. Publish it so others can do the same.\n",
       "</pre>\n"
      ],
      "text/plain": [
       "🎉 \u001b[1;32mYour generator is ready!\u001b[0m Use it to create synthetic data. Publish it so others can do the same.\n"
      ]
     },
     "metadata": {},
     "output_type": "display_data"
    }
   ],
   "source": [
    "g_dp_A = mostly.train(\n",
    "    config={\n",
    "        \"name\": \"Census with DP - 1.5 1\",\n",
    "        \"tables\": [\n",
    "            {\n",
    "                \"name\": \"census\",\n",
    "                \"data\": df_original,\n",
    "                \"tabular_model_configuration\": {\n",
    "                    \"differential_privacy\": {\n",
    "                        \"max_epsilon\": None,  # Specifies the maximum allowable epsilon value. If the training process exceeds this threshold, it will be terminated early.\n",
    "                        \"delta\": 1e-5,  # The delta value for differential privacy. It is the probability of the privacy guarantee not holding.\n",
    "                        \"noise_multiplier\": 1.5,  # The ratio of the standard deviation of the Gaussian noise to the L2-sensitivity of the function to which the noise is added (How much noise to add).\n",
    "                        \"max_grad_norm\": 1.0,  # The maximum norm of the per-sample gradients for training the model with differential privacy.\n",
    "                    },\n",
    "                },\n",
    "            }\n",
    "        ],\n",
    "    },\n",
    ")"
   ]
  },
  {
   "cell_type": "markdown",
   "id": "b5d3c9cf-e712-443e-ad4d-62ad4c66aa54",
   "metadata": {},
   "source": [
    "Train a generator with DP, using stricter configurations."
   ]
  },
  {
   "cell_type": "code",
   "execution_count": 7,
   "id": "1b21af83-222d-405e-badc-2cbf27f838d9",
   "metadata": {},
   "outputs": [
    {
     "data": {
      "text/html": [
       "<pre style=\"white-space:pre;overflow-x:auto;line-height:normal;font-family:Menlo,'DejaVu Sans Mono',consolas,'Courier New',monospace\">Created generator <a href=\"http://127.0.0.1:64019/d/generators/ca31f9f1-e5df-4e60-810e-0093d014a6be\" target=\"_blank\"><span style=\"color: #000080; text-decoration-color: #000080; text-decoration: underline\">ca31f9f1-e5df-4e60-810e-0093d014a6be</span></a>\n",
       "</pre>\n"
      ],
      "text/plain": [
       "Created generator \u001b]8;id=34635;http://127.0.0.1:64019/d/generators/ca31f9f1-e5df-4e60-810e-0093d014a6be\u001b\\\u001b[4;34mca31f9f1-e5df-4e60-810e-0093d014a6be\u001b[0m\u001b]8;;\u001b\\\n"
      ]
     },
     "metadata": {},
     "output_type": "display_data"
    },
    {
     "data": {
      "text/html": [
       "<pre style=\"white-space:pre;overflow-x:auto;line-height:normal;font-family:Menlo,'DejaVu Sans Mono',consolas,'Courier New',monospace\">Started generator training\n",
       "</pre>\n"
      ],
      "text/plain": [
       "Started generator training\n"
      ]
     },
     "metadata": {},
     "output_type": "display_data"
    },
    {
     "data": {
      "application/vnd.jupyter.widget-view+json": {
       "model_id": "89bed19cd2684b08b23adbdb138c7b9f",
       "version_major": 2,
       "version_minor": 0
      },
      "text/plain": [
       "Output()"
      ]
     },
     "metadata": {},
     "output_type": "display_data"
    },
    {
     "data": {
      "text/html": [
       "<pre style=\"white-space:pre;overflow-x:auto;line-height:normal;font-family:Menlo,'DejaVu Sans Mono',consolas,'Courier New',monospace\"></pre>\n"
      ],
      "text/plain": []
     },
     "metadata": {},
     "output_type": "display_data"
    },
    {
     "data": {
      "text/html": [
       "<pre style=\"white-space:pre;overflow-x:auto;line-height:normal;font-family:Menlo,'DejaVu Sans Mono',consolas,'Courier New',monospace\">🎉 <span style=\"color: #008000; text-decoration-color: #008000; font-weight: bold\">Your generator is ready!</span> Use it to create synthetic data. Publish it so others can do the same.\n",
       "</pre>\n"
      ],
      "text/plain": [
       "🎉 \u001b[1;32mYour generator is ready!\u001b[0m Use it to create synthetic data. Publish it so others can do the same.\n"
      ]
     },
     "metadata": {},
     "output_type": "display_data"
    }
   ],
   "source": [
    "g_dp_B = mostly.train(\n",
    "    config={\n",
    "        \"name\": \"Census with DP - 4 2\",\n",
    "        \"tables\": [\n",
    "            {\n",
    "                \"name\": \"census\",\n",
    "                \"data\": df_original,\n",
    "                \"tabular_model_configuration\": {\n",
    "                    \"differential_privacy\": {\n",
    "                        \"max_epsilon\": None,\n",
    "                        \"delta\": 1e-5,\n",
    "                        \"noise_multiplier\": 4.0,  # increased compared to default\n",
    "                        \"max_grad_norm\": 2.0,  # increased compared to default\n",
    "                    },\n",
    "                },\n",
    "            }\n",
    "        ],\n",
    "    },\n",
    ")"
   ]
  },
  {
   "cell_type": "markdown",
   "id": "2bf1034b-956c-4e20-8a46-6e1e6b22b0f5",
   "metadata": {},
   "source": [
    "## Compare Metrics across these Runs"
   ]
  },
  {
   "cell_type": "code",
   "execution_count": 63,
   "id": "3bbaf929-0149-411e-b857-1de68eead7c4",
   "metadata": {},
   "outputs": [
    {
     "name": "stdout",
     "output_type": "stream",
     "text": [
      "# US Census without DP - full\n",
      "Accuracy: 98.2%\n",
      "Runtime: None\n",
      "Epsilon: None\n",
      "\n",
      "# US Census without DP - 5 epochs\n",
      "Accuracy: 92.4%\n",
      "Runtime: None\n",
      "Epsilon: None\n",
      "\n",
      "# Census with DP - 1.5 1\n",
      "Accuracy: 95.9%\n",
      "Runtime: None\n",
      "Epsilon: 2.53\n",
      "\n",
      "# Census with DP - 4 2\n",
      "Accuracy: 92.5%\n",
      "Runtime: None\n",
      "Epsilon: 0.84\n",
      "\n"
     ]
    }
   ],
   "source": [
    "generators = [g_no_dp, g_no_dp_e5, g_dp_A, g_dp_B]\n",
    "for g in generators:\n",
    "    # fetch final epsilon from message of last model checkpoint\n",
    "    messages = pd.DataFrame(g.training.progress().steps[3].messages)\n",
    "    final_msg = messages.loc[messages.is_checkpoint == 1, :].tail(1)\n",
    "    final_eps = next(iter(final_msg.to_dict(\"list\").get(\"dp_eps\")))\n",
    "    # print out stats\n",
    "    print(f\"# {g.name}\\nAccuracy: {g.accuracy:.1%}\\nRuntime: {g.training_time}\\nEpsilon: {final_eps}\\n\")"
   ]
  },
  {
   "cell_type": "markdown",
   "id": "16e5b61e-6706-4787-b2d4-70a78f9c83ad",
   "metadata": {},
   "source": [
    "## Further exercises\n",
    "\n",
    "In addition to walking through the above instructions, we suggest..\n",
    "* to experiment with different DP settings\n",
    "* to study the impact of the total size of the training data on final eps\n",
    "* to evaluate the accuracy-privacy trade off also for other datasets"
   ]
  },
  {
   "cell_type": "markdown",
   "id": "b876316b-62c6-4ddf-b84c-dd8cba517902",
   "metadata": {},
   "source": [
    "## Conclusion\n",
    "\n",
    "This tutorial demonstrated how to train with and without differential privacy guarantees. Note: DP just provides additional mathematical guarantees for use cases that require these. However, given the other privacy mechanism in-built into the SDK, synthetic data can also without stricter DP guarantees be considered to be anonymous. See again [here](https://mostly.ai/blog/differentially-private-synthetic-data-with-mostly-ai) for a further discussion."
   ]
  },
  {
   "cell_type": "code",
   "execution_count": null,
   "id": "e451ed57-29eb-4b23-ace4-4bd7f853caff",
   "metadata": {},
   "outputs": [],
   "source": []
  }
 ],
 "metadata": {
  "kernelspec": {
   "display_name": "Python 3 (ipykernel)",
   "language": "python",
   "name": "python3"
  },
  "language_info": {
   "codemirror_mode": {
    "name": "ipython",
    "version": 3
   },
   "file_extension": ".py",
   "mimetype": "text/x-python",
   "name": "python",
   "nbconvert_exporter": "python",
   "pygments_lexer": "ipython3",
   "version": "3.12.0"
  }
 },
 "nbformat": 4,
 "nbformat_minor": 5
}
