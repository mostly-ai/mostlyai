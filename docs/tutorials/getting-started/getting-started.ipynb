{
 "cells": [
  {
   "cell_type": "markdown",
   "id": "9adc1d85-0da1-495e-8e83-d1fadfd59d18",
   "metadata": {},
   "source": [
    "# Getting Started with the SDK  <a href=\"https://colab.research.google.com/github/mostly-ai/mostlyai/blob/main/docs/tutorials/quick-start/quick-start.ipynb\" target=\"_blank\"><img src=\"https://img.shields.io/badge/Open%20in-Colab-blue?logo=google-colab\" alt=\"Run on Colab\"></a>\n",
    "\n",
    "In this notebook, we take our first steps with the SDK by training a basic single-table generator, to then probe it for new synthetic samples.\n",
    "\n",
    "Note, that the chosen dataset is for demo purposes and intentionally very small to make this tutorial run fast. Expect significantly higher quality in case of more training samples. See the other tutorials for reference."
   ]
  },
  {
   "cell_type": "code",
   "execution_count": null,
   "id": "cddd0cc0-16aa-4229-8a05-d3257a1b0059",
   "metadata": {},
   "outputs": [],
   "source": [
    "# Install SDK in CLIENT mode\n",
    "!uv pip install -U mostlyai\n",
    "# Or install in LOCAL mode\n",
    "!uv pip install -U 'mostlyai[local]'\n",
    "# Note: Restart kernel session after installation!"
   ]
  },
  {
   "cell_type": "markdown",
   "id": "90b0e732-6bdd-4cc7-b922-d2bdea4a17de",
   "metadata": {},
   "source": [
    "## Load Original Data\n",
    "\n",
    "Fetch some original data that will be used for training the generator."
   ]
  },
  {
   "cell_type": "code",
   "execution_count": null,
   "id": "162ec785-27a8-4049-b4ce-4054898b5454",
   "metadata": {},
   "outputs": [],
   "source": [
    "import pandas as pd\n",
    "\n",
    "# fetch some original data\n",
    "repo_url = \"https://github.com/mostly-ai/public-demo-data/raw/refs/heads/dev\"\n",
    "df_original = pd.read_csv(f\"{repo_url}/census/census.csv.gz\")\n",
    "df_original"
   ]
  },
  {
   "cell_type": "markdown",
   "id": "5768ab6d-c1d3-47f6-988b-4b2e9ccd743b",
   "metadata": {},
   "source": [
    "## Initialize the SDK\n",
    "\n"
   ]
  },
  {
   "cell_type": "code",
   "execution_count": null,
   "id": "1db0dd1c5bb6ccca",
   "metadata": {},
   "outputs": [],
   "source": [
    "from mostlyai.sdk import MostlyAI\n",
    "\n",
    "# initialize SDK\n",
    "mostly = MostlyAI()"
   ]
  },
  {
   "cell_type": "markdown",
   "id": "a327631d949c6643",
   "metadata": {},
   "source": [
    "## Train a Generator\n",
    "\n",
    "Train a synthetic data generator."
   ]
  },
  {
   "cell_type": "code",
   "execution_count": null,
   "id": "a5d3f2c5-b652-4655-bc9e-f266953d0052",
   "metadata": {},
   "outputs": [],
   "source": [
    "# train a generator, with defaults\n",
    "g = mostly.train(data=df_original)"
   ]
  },
  {
   "cell_type": "markdown",
   "id": "c4dbba68-6c2f-47ed-9f3b-68d2502d9596",
   "metadata": {},
   "source": [
    "## Generate Synthetic Data\n",
    "\n",
    "Probe for a single synthetic sample."
   ]
  },
  {
   "cell_type": "code",
   "execution_count": null,
   "id": "33032d43-e3c6-437d-b09a-715f6e20832c",
   "metadata": {},
   "outputs": [],
   "source": [
    "mostly.probe(g)"
   ]
  },
  {
   "cell_type": "markdown",
   "id": "d60bb18f-49fa-42dd-8091-096a41beaa29",
   "metadata": {},
   "source": [
    "Probe the trained generator for 100 representative synthetic samples."
   ]
  },
  {
   "cell_type": "code",
   "execution_count": null,
   "id": "e9f53af50c7084c7",
   "metadata": {},
   "outputs": [],
   "source": [
    "mostly.probe(g, size=100)"
   ]
  },
  {
   "cell_type": "markdown",
   "id": "4589c204-76c0-4563-8e8b-bc058395c537",
   "metadata": {},
   "source": [
    "Generate a larger scale representative synthetic dataset."
   ]
  },
  {
   "cell_type": "code",
   "execution_count": null,
   "id": "71da2e8867ae5b2a",
   "metadata": {},
   "outputs": [],
   "source": [
    "sd = mostly.generate(g, size=1_000_000)\n",
    "df_synthetic = sd.data()\n",
    "df_synthetic"
   ]
  },
  {
   "cell_type": "markdown",
   "id": "443b5ca7-8184-4fd6-9887-f6f090189f2d",
   "metadata": {},
   "source": [
    "Conditionally generate 1000 records of 70y old male citizens."
   ]
  },
  {
   "cell_type": "code",
   "execution_count": null,
   "id": "a149ceb4a9379cc6",
   "metadata": {},
   "outputs": [],
   "source": [
    "df_seed = pd.DataFrame(\n",
    "    {\n",
    "        \"age\": [70] * 1_000,\n",
    "        \"sex\": [\"Male\"] * 1_000,\n",
    "    }\n",
    ")\n",
    "# conditionally probe, based on provided seed\n",
    "df_samples = mostly.probe(g, seed=df_seed)\n",
    "df_samples"
   ]
  },
  {
   "cell_type": "markdown",
   "id": "b583687a-a992-4c49-b589-ad3f5c253015",
   "metadata": {},
   "source": [
    "## Quality Assurance\n",
    "\n",
    "Inspect the automated Quality Assurance report, to learn about the accuracy, similarity and novelty of the generated synthetic samples."
   ]
  },
  {
   "cell_type": "code",
   "execution_count": null,
   "id": "d9f66e9e-0d1a-4329-ae47-0b7feacbcbfc",
   "metadata": {},
   "outputs": [],
   "source": [
    "# display the quality assurance report\n",
    "g.reports(display=True)"
   ]
  },
  {
   "cell_type": "markdown",
   "id": "260a46c5-6efd-4b59-96ca-adaa19f4a847",
   "metadata": {},
   "source": [
    "## Export Generator\n",
    "\n",
    "Export the generator for further sharing with other SDK users. Plus, you can import zipped generators also to a MOSTLY AI platform."
   ]
  },
  {
   "cell_type": "code",
   "execution_count": null,
   "id": "a6a22d92-08bb-4cb5-8ed8-001f7fbd320a",
   "metadata": {},
   "outputs": [],
   "source": [
    "# export the generator\n",
    "g.export_to_file(\"census-generator.zip\")"
   ]
  },
  {
   "cell_type": "markdown",
   "id": "30f56bc9-a8a9-4492-9fd9-c55e82e8fd22",
   "metadata": {},
   "source": [
    "## Advanced Options\n",
    "\n",
    "Several configuration parameters are available that allow fine-grained control over the training of the generator. See `?mostly.train` for further examples. See [GeneratorConfig](https://mostly-ai.github.io/mostlyai/api_domain/#mostlyai.sdk.domain.GeneratorConfig) as well as [SourceTableConfig](https://mostly-ai.github.io/mostlyai/api_domain/#mostlyai.sdk.domain.SourceTableConfig) for all available configuration settings.\n",
    "\n",
    "The following example trains e.g. a differentially private generator, for a maximum of 2 minutes."
   ]
  },
  {
   "cell_type": "code",
   "execution_count": null,
   "id": "dfa36a8f2a851f35",
   "metadata": {},
   "outputs": [],
   "source": [
    "g = mostly.train(\n",
    "    config={\n",
    "        \"name\": \"Census\",  # name of the generator\n",
    "        \"tables\": [\n",
    "            {\n",
    "                \"name\": \"census\",\n",
    "                \"data\": df_original,\n",
    "                \"tabular_model_configuration\": {  # tabular model configuration (optional)\n",
    "                    \"max_training_time\": 2,  # - limit training time (in minutes)\n",
    "                    # model, max_epochs,,..       # further model configurations (optional)\n",
    "                    \"differential_privacy\": {  # differential privacy configuration (optional)\n",
    "                        \"max_epsilon\": 5.0,  # - max epsilon value, used as stopping criterion\n",
    "                        \"delta\": 1e-5,  # - delta value for differentially private training (DP-SGD)\n",
    "                        \"noise_multiplier\": 1.5,  # - noise level for privacy for DP-SGD\n",
    "                        \"max_grad_norm\": 1.0,  # - maximum norm of the per-sample gradients for DP-SGD\n",
    "                        \"value_protection_epsilon\": 2.0,  # - DP epsilon for determining value ranges / data domains\n",
    "                    },\n",
    "                },\n",
    "                # columns, keys, compute,..        # further table configurations (optional)\n",
    "            }\n",
    "        ],\n",
    "    },\n",
    "    start=False,  # start training immediately (default: True)\n",
    "    wait=False,  # wait for completion (default: True)\n",
    ")"
   ]
  },
  {
   "cell_type": "code",
   "execution_count": null,
   "id": "750e21a9-5f3f-47e6-b8a0-18137d41083c",
   "metadata": {},
   "outputs": [],
   "source": [
    "# launch training asynchronously\n",
    "g.training.start()"
   ]
  },
  {
   "cell_type": "code",
   "execution_count": null,
   "id": "fe4af424-c7a4-4440-b032-6f37b2419d17",
   "metadata": {},
   "outputs": [],
   "source": [
    "# observe training status\n",
    "g.training.wait()"
   ]
  },
  {
   "cell_type": "markdown",
   "id": "f959dbfe-1012-4495-b2ee-f79f2fe03b7a",
   "metadata": {},
   "source": [
    "## Conclusion\n",
    "\n",
    "This tutorial demonstrated the basic usage of the Synthetic Data SDK. You have successfully trained a generator from scratch, given the original data. And you have then used the generator to sample new records, according to your specifications.\n",
    "\n",
    "See the other tutorials for further exercises."
   ]
  }
 ],
 "metadata": {
  "kernelspec": {
   "display_name": "Python 3 (ipykernel)",
   "language": "python",
   "name": "python3"
  },
  "language_info": {
   "codemirror_mode": {
    "name": "ipython",
    "version": 3
   },
   "file_extension": ".py",
   "mimetype": "text/x-python",
   "name": "python",
   "nbconvert_exporter": "python",
   "pygments_lexer": "ipython3",
   "version": "3.10.16"
  }
 },
 "nbformat": 4,
 "nbformat_minor": 5
}
