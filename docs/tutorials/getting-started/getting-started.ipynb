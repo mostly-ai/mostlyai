{
 "cells": [
  {
   "cell_type": "markdown",
   "id": "9adc1d85-0da1-495e-8e83-d1fadfd59d18",
   "metadata": {},
   "source": [
    "# Getting Started with the SDK\n",
    "\n",
    "[![Run on Colab](https://img.shields.io/badge/Open%20in-Colab-blue?logo=google-colab)](https://colab.research.google.com/github/mostly-ai/mostlyai/blob/main/docs/tutorials/quick-start/quick-start.ipynb)\n",
    "\n",
    "In this notebook, we take our first steps with the SDK by training a basic single-table generator, to then probe it for new synthetic samples."
   ]
  },
  {
   "cell_type": "code",
   "execution_count": null,
   "id": "cddd0cc0-16aa-4229-8a05-d3257a1b0059",
   "metadata": {},
   "outputs": [],
   "source": [
    "#!pip install -U 'mostlyai[local]'"
   ]
  },
  {
   "cell_type": "markdown",
   "id": "90b0e732-6bdd-4cc7-b922-d2bdea4a17de",
   "metadata": {},
   "source": [
    "## Source original data\n",
    "\n",
    "Fetch some original data that will be used for training the generator."
   ]
  },
  {
   "cell_type": "code",
   "execution_count": null,
   "id": "162ec785-27a8-4049-b4ce-4054898b5454",
   "metadata": {},
   "outputs": [],
   "source": [
    "import pandas as pd\n",
    "\n",
    "# fetch some original data\n",
    "repo_url = \"https://github.com/mostly-ai/public-demo-data\"\n",
    "df_original = pd.read_csv(f\"{repo_url}/raw/dev/census/census.csv.gz\")\n",
    "df_original.head(5)"
   ]
  },
  {
   "cell_type": "markdown",
   "id": "5768ab6d-c1d3-47f6-988b-4b2e9ccd743b",
   "metadata": {},
   "source": [
    "## Initialize the SDK\n",
    "\n",
    "For client mode, initialize with `base_url` and `api_key` obtained from your [account settings page](https://app.mostly.ai/settings/api-keys). For local mode, initialize the client simply with `local=True`."
   ]
  },
  {
   "cell_type": "code",
   "execution_count": null,
   "id": "3fbc9578-4bd6-4519-938d-19cb7a5504cc",
   "metadata": {},
   "outputs": [],
   "source": [
    "from mostlyai.sdk import MostlyAI\n",
    "\n",
    "# initialize SDK\n",
    "mostly = MostlyAI(local=True)  # or: MostlyAI(base_url='xxx', api_key='xxx')"
   ]
  },
  {
   "cell_type": "markdown",
   "id": "fc617b8c-0e80-4d16-b17e-4011ad69361f",
   "metadata": {},
   "source": [
    "## Train a generator\n",
    "\n",
    "Train a synthetic data generator, leaving all defaults as-is."
   ]
  },
  {
   "cell_type": "code",
   "execution_count": null,
   "id": "initial_id",
   "metadata": {},
   "outputs": [],
   "source": [
    "g = mostly.train(\n",
    "    config={\n",
    "        \"name\": \"US Census Income\",  # name of the generator\n",
    "        \"tables\": [\n",
    "            {  # provide list of table(s)\n",
    "                \"name\": \"census\",  # name of the table\n",
    "                \"data\": df_original,  # the original data as pd.DataFrame\n",
    "                # 'tabular_model_configuration': { # tabular model configuration (optional)\n",
    "                #     'max_training_time': 1,      # - limit training time (in minutes)\n",
    "                #     # model, max_epochs,,..      # further model configurations (optional)\n",
    "                #     'differential_privacy': {    # differential privacy configuration (optional)\n",
    "                #         'max_epsilon': 5.0,      # - max epsilon value, used as stopping criterion\n",
    "                #         'delta': 1e-5,           # - delta value\n",
    "                #     }\n",
    "                # },\n",
    "                # columns, keys, compute,..      # further table configurations (optional)\n",
    "            }\n",
    "        ],\n",
    "    },\n",
    "    # start=True,                              # start training immediately (default: True)\n",
    "    # wait=True,                               # wait for completion (default: True)\n",
    ")"
   ]
  },
  {
   "cell_type": "markdown",
   "id": "c4dbba68-6c2f-47ed-9f3b-68d2502d9596",
   "metadata": {},
   "source": [
    "## Generate synthetic data"
   ]
  },
  {
   "cell_type": "markdown",
   "id": "d60bb18f-49fa-42dd-8091-096a41beaa29",
   "metadata": {},
   "source": [
    "Probe the trained generator for 100 representative synthetic samples."
   ]
  },
  {
   "cell_type": "code",
   "execution_count": null,
   "id": "e9f53af50c7084c7",
   "metadata": {},
   "outputs": [],
   "source": [
    "df_samples = mostly.probe(g, size=100)\n",
    "df_samples"
   ]
  },
  {
   "cell_type": "markdown",
   "id": "4589c204-76c0-4563-8e8b-bc058395c537",
   "metadata": {},
   "source": [
    "Generate a larger scale representative synthetic dataset."
   ]
  },
  {
   "cell_type": "code",
   "execution_count": null,
   "id": "71da2e8867ae5b2a",
   "metadata": {},
   "outputs": [],
   "source": [
    "sd = mostly.generate(g, size=100_000)\n",
    "df_synthetic = sd.data()\n",
    "df_synthetic"
   ]
  },
  {
   "cell_type": "markdown",
   "id": "443b5ca7-8184-4fd6-9887-f6f090189f2d",
   "metadata": {},
   "source": [
    "Conditionally generate 1000 records of 24y old Mexicans."
   ]
  },
  {
   "cell_type": "code",
   "execution_count": null,
   "id": "a149ceb4a9379cc6",
   "metadata": {},
   "outputs": [],
   "source": [
    "df_seed = pd.DataFrame(\n",
    "    {\n",
    "        \"age\": [24] * 1_000,\n",
    "        \"native_country\": [\"Mexico\"] * 1_000,\n",
    "    }\n",
    ")\n",
    "# conditionally probe, based on provided seed\n",
    "df_samples = mostly.probe(g, seed=df_seed)\n",
    "df_samples"
   ]
  },
  {
   "cell_type": "markdown",
   "id": "f959dbfe-1012-4495-b2ee-f79f2fe03b7a",
   "metadata": {},
   "source": [
    "## Conclusion\n",
    "\n",
    "This tutorial demonstrated the basic usage of the Synthetic Data SDK. You have successfully trained a generator from scratch, given the original data. And you have then used the generator to sample new records, according to your specifications.\n",
    "\n",
    "See the other tutorials for further exercises."
   ]
  }
 ],
 "metadata": {
  "kernelspec": {
   "display_name": "Python 3 (ipykernel)",
   "language": "python",
   "name": "python3"
  },
  "language_info": {
   "codemirror_mode": {
    "name": "ipython",
    "version": 3
   },
   "file_extension": ".py",
   "mimetype": "text/x-python",
   "name": "python",
   "nbconvert_exporter": "python",
   "pygments_lexer": "ipython3",
   "version": "3.12.8"
  }
 },
 "nbformat": 4,
 "nbformat_minor": 5
}
