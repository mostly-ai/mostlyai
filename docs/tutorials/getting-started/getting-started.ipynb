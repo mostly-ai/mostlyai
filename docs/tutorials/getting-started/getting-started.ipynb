{
 "cells": [
  {
   "cell_type": "markdown",
   "id": "9adc1d85-0da1-495e-8e83-d1fadfd59d18",
   "metadata": {},
   "source": [
    "# Getting Started with the SDK  <a href=\"https://colab.research.google.com/github/mostly-ai/mostlyai/blob/main/docs/tutorials/quick-start/quick-start.ipynb\" target=\"_blank\"><img src=\"https://img.shields.io/badge/Open%20in-Colab-blue?logo=google-colab\" alt=\"Run on Colab\"></a>\n",
    "\n",
    "In this notebook, we take our first steps with the SDK by training a basic single-table generator, to then probe it for new synthetic samples.\n",
    "\n",
    "Note, that the chosen dataset is for demo purposes and intentionally very small to make this tutorial run fast. Expect significantly higher quality in case of more training samples. See the other tutorials for reference."
   ]
  },
  {
   "cell_type": "code",
   "execution_count": null,
   "id": "cddd0cc0-16aa-4229-8a05-d3257a1b0059",
   "metadata": {},
   "outputs": [],
   "source": [
    "# Install SDK in CLIENT mode\n",
    "!uv pip install -U mostlyai\n",
    "# Or install in LOCAL mode\n",
    "!uv pip install -U 'mostlyai[local]'\n",
    "# Note: Restart kernel session after installation!"
   ]
  },
  {
   "cell_type": "markdown",
   "id": "90b0e732-6bdd-4cc7-b922-d2bdea4a17de",
   "metadata": {},
   "source": [
    "## Load Original Data\n",
    "\n",
    "Fetch some original data that will be used for training the generator."
   ]
  },
  {
   "cell_type": "code",
   "execution_count": 1,
   "id": "162ec785-27a8-4049-b4ce-4054898b5454",
   "metadata": {},
   "outputs": [
    {
     "data": {
      "text/html": [
       "<div>\n",
       "<style scoped>\n",
       "    .dataframe tbody tr th:only-of-type {\n",
       "        vertical-align: middle;\n",
       "    }\n",
       "\n",
       "    .dataframe tbody tr th {\n",
       "        vertical-align: top;\n",
       "    }\n",
       "\n",
       "    .dataframe thead th {\n",
       "        text-align: right;\n",
       "    }\n",
       "</style>\n",
       "<table border=\"1\" class=\"dataframe\">\n",
       "  <thead>\n",
       "    <tr style=\"text-align: right;\">\n",
       "      <th></th>\n",
       "      <th>age</th>\n",
       "      <th>workclass</th>\n",
       "      <th>fnlwgt</th>\n",
       "      <th>education</th>\n",
       "      <th>education_num</th>\n",
       "      <th>marital_status</th>\n",
       "      <th>occupation</th>\n",
       "      <th>relationship</th>\n",
       "      <th>race</th>\n",
       "      <th>sex</th>\n",
       "      <th>capital_gain</th>\n",
       "      <th>capital_loss</th>\n",
       "      <th>hours_per_week</th>\n",
       "      <th>native_country</th>\n",
       "      <th>income</th>\n",
       "    </tr>\n",
       "  </thead>\n",
       "  <tbody>\n",
       "    <tr>\n",
       "      <th>0</th>\n",
       "      <td>39</td>\n",
       "      <td>State-gov</td>\n",
       "      <td>77516</td>\n",
       "      <td>Bachelors</td>\n",
       "      <td>13</td>\n",
       "      <td>Never-married</td>\n",
       "      <td>Adm-clerical</td>\n",
       "      <td>Not-in-family</td>\n",
       "      <td>White</td>\n",
       "      <td>Male</td>\n",
       "      <td>2174</td>\n",
       "      <td>0</td>\n",
       "      <td>40</td>\n",
       "      <td>United-States</td>\n",
       "      <td>&lt;=50K</td>\n",
       "    </tr>\n",
       "    <tr>\n",
       "      <th>1</th>\n",
       "      <td>50</td>\n",
       "      <td>Self-emp-not-inc</td>\n",
       "      <td>83311</td>\n",
       "      <td>Bachelors</td>\n",
       "      <td>13</td>\n",
       "      <td>Married-civ-spouse</td>\n",
       "      <td>Exec-managerial</td>\n",
       "      <td>Husband</td>\n",
       "      <td>White</td>\n",
       "      <td>Male</td>\n",
       "      <td>0</td>\n",
       "      <td>0</td>\n",
       "      <td>13</td>\n",
       "      <td>United-States</td>\n",
       "      <td>&lt;=50K</td>\n",
       "    </tr>\n",
       "    <tr>\n",
       "      <th>2</th>\n",
       "      <td>38</td>\n",
       "      <td>Private</td>\n",
       "      <td>215646</td>\n",
       "      <td>HS-grad</td>\n",
       "      <td>9</td>\n",
       "      <td>Divorced</td>\n",
       "      <td>Handlers-cleaners</td>\n",
       "      <td>Not-in-family</td>\n",
       "      <td>White</td>\n",
       "      <td>Male</td>\n",
       "      <td>0</td>\n",
       "      <td>0</td>\n",
       "      <td>40</td>\n",
       "      <td>United-States</td>\n",
       "      <td>&lt;=50K</td>\n",
       "    </tr>\n",
       "    <tr>\n",
       "      <th>3</th>\n",
       "      <td>53</td>\n",
       "      <td>Private</td>\n",
       "      <td>234721</td>\n",
       "      <td>11th</td>\n",
       "      <td>7</td>\n",
       "      <td>Married-civ-spouse</td>\n",
       "      <td>Handlers-cleaners</td>\n",
       "      <td>Husband</td>\n",
       "      <td>Black</td>\n",
       "      <td>Male</td>\n",
       "      <td>0</td>\n",
       "      <td>0</td>\n",
       "      <td>40</td>\n",
       "      <td>United-States</td>\n",
       "      <td>&lt;=50K</td>\n",
       "    </tr>\n",
       "    <tr>\n",
       "      <th>4</th>\n",
       "      <td>28</td>\n",
       "      <td>Private</td>\n",
       "      <td>338409</td>\n",
       "      <td>Bachelors</td>\n",
       "      <td>13</td>\n",
       "      <td>Married-civ-spouse</td>\n",
       "      <td>Prof-specialty</td>\n",
       "      <td>Wife</td>\n",
       "      <td>Black</td>\n",
       "      <td>Female</td>\n",
       "      <td>0</td>\n",
       "      <td>0</td>\n",
       "      <td>40</td>\n",
       "      <td>Cuba</td>\n",
       "      <td>&lt;=50K</td>\n",
       "    </tr>\n",
       "    <tr>\n",
       "      <th>...</th>\n",
       "      <td>...</td>\n",
       "      <td>...</td>\n",
       "      <td>...</td>\n",
       "      <td>...</td>\n",
       "      <td>...</td>\n",
       "      <td>...</td>\n",
       "      <td>...</td>\n",
       "      <td>...</td>\n",
       "      <td>...</td>\n",
       "      <td>...</td>\n",
       "      <td>...</td>\n",
       "      <td>...</td>\n",
       "      <td>...</td>\n",
       "      <td>...</td>\n",
       "      <td>...</td>\n",
       "    </tr>\n",
       "    <tr>\n",
       "      <th>48837</th>\n",
       "      <td>39</td>\n",
       "      <td>Private</td>\n",
       "      <td>215419</td>\n",
       "      <td>Bachelors</td>\n",
       "      <td>13</td>\n",
       "      <td>Divorced</td>\n",
       "      <td>Prof-specialty</td>\n",
       "      <td>Not-in-family</td>\n",
       "      <td>White</td>\n",
       "      <td>Female</td>\n",
       "      <td>0</td>\n",
       "      <td>0</td>\n",
       "      <td>36</td>\n",
       "      <td>United-States</td>\n",
       "      <td>&lt;=50K</td>\n",
       "    </tr>\n",
       "    <tr>\n",
       "      <th>48838</th>\n",
       "      <td>64</td>\n",
       "      <td>?</td>\n",
       "      <td>321403</td>\n",
       "      <td>HS-grad</td>\n",
       "      <td>9</td>\n",
       "      <td>Widowed</td>\n",
       "      <td>?</td>\n",
       "      <td>Other-relative</td>\n",
       "      <td>Black</td>\n",
       "      <td>Male</td>\n",
       "      <td>0</td>\n",
       "      <td>0</td>\n",
       "      <td>40</td>\n",
       "      <td>United-States</td>\n",
       "      <td>&lt;=50K</td>\n",
       "    </tr>\n",
       "    <tr>\n",
       "      <th>48839</th>\n",
       "      <td>38</td>\n",
       "      <td>Private</td>\n",
       "      <td>374983</td>\n",
       "      <td>Bachelors</td>\n",
       "      <td>13</td>\n",
       "      <td>Married-civ-spouse</td>\n",
       "      <td>Prof-specialty</td>\n",
       "      <td>Husband</td>\n",
       "      <td>White</td>\n",
       "      <td>Male</td>\n",
       "      <td>0</td>\n",
       "      <td>0</td>\n",
       "      <td>50</td>\n",
       "      <td>United-States</td>\n",
       "      <td>&lt;=50K</td>\n",
       "    </tr>\n",
       "    <tr>\n",
       "      <th>48840</th>\n",
       "      <td>44</td>\n",
       "      <td>Private</td>\n",
       "      <td>83891</td>\n",
       "      <td>Bachelors</td>\n",
       "      <td>13</td>\n",
       "      <td>Divorced</td>\n",
       "      <td>Adm-clerical</td>\n",
       "      <td>Own-child</td>\n",
       "      <td>Asian-Pac-Islander</td>\n",
       "      <td>Male</td>\n",
       "      <td>5455</td>\n",
       "      <td>0</td>\n",
       "      <td>40</td>\n",
       "      <td>United-States</td>\n",
       "      <td>&lt;=50K</td>\n",
       "    </tr>\n",
       "    <tr>\n",
       "      <th>48841</th>\n",
       "      <td>35</td>\n",
       "      <td>Self-emp-inc</td>\n",
       "      <td>182148</td>\n",
       "      <td>Bachelors</td>\n",
       "      <td>13</td>\n",
       "      <td>Married-civ-spouse</td>\n",
       "      <td>Exec-managerial</td>\n",
       "      <td>Husband</td>\n",
       "      <td>White</td>\n",
       "      <td>Male</td>\n",
       "      <td>0</td>\n",
       "      <td>0</td>\n",
       "      <td>60</td>\n",
       "      <td>United-States</td>\n",
       "      <td>&gt;50K</td>\n",
       "    </tr>\n",
       "  </tbody>\n",
       "</table>\n",
       "<p>48842 rows × 15 columns</p>\n",
       "</div>"
      ],
      "text/plain": [
       "       age         workclass  fnlwgt  education  education_num  \\\n",
       "0       39         State-gov   77516  Bachelors             13   \n",
       "1       50  Self-emp-not-inc   83311  Bachelors             13   \n",
       "2       38           Private  215646    HS-grad              9   \n",
       "3       53           Private  234721       11th              7   \n",
       "4       28           Private  338409  Bachelors             13   \n",
       "...    ...               ...     ...        ...            ...   \n",
       "48837   39           Private  215419  Bachelors             13   \n",
       "48838   64                 ?  321403    HS-grad              9   \n",
       "48839   38           Private  374983  Bachelors             13   \n",
       "48840   44           Private   83891  Bachelors             13   \n",
       "48841   35      Self-emp-inc  182148  Bachelors             13   \n",
       "\n",
       "           marital_status         occupation    relationship  \\\n",
       "0           Never-married       Adm-clerical   Not-in-family   \n",
       "1      Married-civ-spouse    Exec-managerial         Husband   \n",
       "2                Divorced  Handlers-cleaners   Not-in-family   \n",
       "3      Married-civ-spouse  Handlers-cleaners         Husband   \n",
       "4      Married-civ-spouse     Prof-specialty            Wife   \n",
       "...                   ...                ...             ...   \n",
       "48837            Divorced     Prof-specialty   Not-in-family   \n",
       "48838             Widowed                  ?  Other-relative   \n",
       "48839  Married-civ-spouse     Prof-specialty         Husband   \n",
       "48840            Divorced       Adm-clerical       Own-child   \n",
       "48841  Married-civ-spouse    Exec-managerial         Husband   \n",
       "\n",
       "                     race     sex  capital_gain  capital_loss  hours_per_week  \\\n",
       "0                   White    Male          2174             0              40   \n",
       "1                   White    Male             0             0              13   \n",
       "2                   White    Male             0             0              40   \n",
       "3                   Black    Male             0             0              40   \n",
       "4                   Black  Female             0             0              40   \n",
       "...                   ...     ...           ...           ...             ...   \n",
       "48837               White  Female             0             0              36   \n",
       "48838               Black    Male             0             0              40   \n",
       "48839               White    Male             0             0              50   \n",
       "48840  Asian-Pac-Islander    Male          5455             0              40   \n",
       "48841               White    Male             0             0              60   \n",
       "\n",
       "      native_country income  \n",
       "0      United-States  <=50K  \n",
       "1      United-States  <=50K  \n",
       "2      United-States  <=50K  \n",
       "3      United-States  <=50K  \n",
       "4               Cuba  <=50K  \n",
       "...              ...    ...  \n",
       "48837  United-States  <=50K  \n",
       "48838  United-States  <=50K  \n",
       "48839  United-States  <=50K  \n",
       "48840  United-States  <=50K  \n",
       "48841  United-States   >50K  \n",
       "\n",
       "[48842 rows x 15 columns]"
      ]
     },
     "execution_count": 1,
     "metadata": {},
     "output_type": "execute_result"
    }
   ],
   "source": [
    "import pandas as pd\n",
    "\n",
    "# fetch some original data\n",
    "repo_url = \"https://github.com/mostly-ai/public-demo-data/raw/refs/heads/dev\"\n",
    "df_original = pd.read_csv(f\"{repo_url}/census/census.csv.gz\")\n",
    "df_original"
   ]
  },
  {
   "cell_type": "markdown",
   "id": "5768ab6d-c1d3-47f6-988b-4b2e9ccd743b",
   "metadata": {},
   "source": [
    "## Initialize the SDK\n",
    "\n"
   ]
  },
  {
   "cell_type": "code",
   "execution_count": 2,
   "id": "1db0dd1c5bb6ccca",
   "metadata": {},
   "outputs": [
    {
     "data": {
      "text/html": [
       "<pre style=\"white-space:pre;overflow-x:auto;line-height:normal;font-family:Menlo,'DejaVu Sans Mono',consolas,'Courier New',monospace\">Select your desired SDK mode:\n",
       "\n",
       "1) Run in <span style=\"font-weight: bold\">CLIENT mode</span> 📡, connecting to a remote MOSTLY AI platform\n",
       "\n",
       "2) Run in <span style=\"font-weight: bold\">LOCAL mode</span> 🏠, operating offline using your own compute\n",
       "\n",
       "Enter your choice <span style=\"color: #800080; text-decoration-color: #800080; font-weight: bold\">[1/2]</span> <span style=\"color: #008080; text-decoration-color: #008080; font-weight: bold\">(1)</span>: </pre>\n"
      ],
      "text/plain": [
       "Select your desired SDK mode:\n",
       "\n",
       "1) Run in \u001b[1mCLIENT mode\u001b[0m 📡, connecting to a remote MOSTLY AI platform\n",
       "\n",
       "2) Run in \u001b[1mLOCAL mode\u001b[0m 🏠, operating offline using your own compute\n",
       "\n",
       "Enter your choice \u001b[1;35m[1/2]\u001b[0m \u001b[1;36m(1)\u001b[0m: "
      ]
     },
     "metadata": {},
     "output_type": "display_data"
    },
    {
     "name": "stdin",
     "output_type": "stream",
     "text": [
      " 2\n"
     ]
    },
    {
     "data": {
      "text/html": [
       "<pre style=\"white-space:pre;overflow-x:auto;line-height:normal;font-family:Menlo,'DejaVu Sans Mono',consolas,'Courier New',monospace\"><span style=\"color: #7f7f7f; text-decoration-color: #7f7f7f; font-weight: bold\">Note</span><span style=\"color: #7f7f7f; text-decoration-color: #7f7f7f\">: To skip this prompt in the future, instantiate via </span><span style=\"color: #bf7fbf; text-decoration-color: #bf7fbf; font-weight: bold\">MostlyAI</span><span style=\"color: #7f7f7f; text-decoration-color: #7f7f7f; font-weight: bold\">(</span><span style=\"color: #bfbf7f; text-decoration-color: #bfbf7f; font-weight: bold\">local</span><span style=\"color: #7f7f7f; text-decoration-color: #7f7f7f; font-weight: bold\">=</span><span style=\"color: #7fff7f; text-decoration-color: #7fff7f; font-weight: bold; font-style: italic\">True</span><span style=\"color: #7f7f7f; text-decoration-color: #7f7f7f; font-weight: bold\">)</span><span style=\"color: #7f7f7f; text-decoration-color: #7f7f7f\">.</span>\n",
       "\n",
       "<span style=\"color: #7f7f7f; text-decoration-color: #7f7f7f\">Alternatively set </span><span style=\"color: #bfbf7f; text-decoration-color: #bfbf7f; font-weight: bold\">MOSTLY_LOCAL</span><span style=\"color: #7f7f7f; text-decoration-color: #7f7f7f; font-weight: bold\">=</span><span style=\"color: #7fbfbf; text-decoration-color: #7fbfbf; font-weight: bold\">1</span><span style=\"color: #7f7f7f; text-decoration-color: #7f7f7f\"> as an environment variable.</span>\n",
       "</pre>\n"
      ],
      "text/plain": [
       "\u001b[1;2mNote\u001b[0m\u001b[2m: To skip this prompt in the future, instantiate via \u001b[0m\u001b[1;2;35mMostlyAI\u001b[0m\u001b[1;2m(\u001b[0m\u001b[1;2;33mlocal\u001b[0m\u001b[1;2m=\u001b[0m\u001b[1;2;3;92mTrue\u001b[0m\u001b[1;2m)\u001b[0m\u001b[2m.\u001b[0m\n",
       "\n",
       "\u001b[2mAlternatively set \u001b[0m\u001b[1;2;33mMOSTLY_LOCAL\u001b[0m\u001b[1;2m=\u001b[0m\u001b[1;2;36m1\u001b[0m\u001b[2m as an environment variable.\u001b[0m\n"
      ]
     },
     "metadata": {},
     "output_type": "display_data"
    },
    {
     "data": {
      "text/html": [
       "<pre style=\"white-space:pre;overflow-x:auto;line-height:normal;font-family:Menlo,'DejaVu Sans Mono',consolas,'Courier New',monospace\">Initializing <span style=\"font-weight: bold\">Synthetic Data SDK</span> <span style=\"color: #008080; text-decoration-color: #008080; font-weight: bold\">4.6</span>.<span style=\"color: #008080; text-decoration-color: #008080; font-weight: bold\">3</span> in <span style=\"font-weight: bold\">LOCAL mode</span> 🏠\n",
       "</pre>\n"
      ],
      "text/plain": [
       "Initializing \u001b[1mSynthetic Data SDK\u001b[0m \u001b[1;36m4.6\u001b[0m.\u001b[1;36m3\u001b[0m in \u001b[1mLOCAL mode\u001b[0m 🏠\n"
      ]
     },
     "metadata": {},
     "output_type": "display_data"
    },
    {
     "data": {
      "text/html": [
       "<pre style=\"white-space:pre;overflow-x:auto;line-height:normal;font-family:Menlo,'DejaVu Sans Mono',consolas,'Courier New',monospace\">Connected to <a href=\"file:///Users/mplatzer/mostlyai\" target=\"_blank\"><span style=\"color: #005fff; text-decoration-color: #005fff; text-decoration: underline\">/Users/mplatzer/mostlyai</span></a> with <span style=\"color: #008080; text-decoration-color: #008080; font-weight: bold\">24</span> GB RAM, <span style=\"color: #008080; text-decoration-color: #008080; font-weight: bold\">8</span> CPUs, <span style=\"color: #008080; text-decoration-color: #008080; font-weight: bold\">0</span> GPUs available\n",
       "</pre>\n"
      ],
      "text/plain": [
       "Connected to \u001b]8;id=195471;file:///Users/mplatzer/mostlyai\u001b\\\u001b[4;38;5;27m/Users/mplatzer/\u001b[0m\u001b]8;;\u001b\\\u001b]8;id=428535;file:///Users/mplatzer/mostlyai\u001b\\\u001b[4;38;5;27mmostlyai\u001b[0m\u001b]8;;\u001b\\ with \u001b[1;36m24\u001b[0m GB RAM, \u001b[1;36m8\u001b[0m CPUs, \u001b[1;36m0\u001b[0m GPUs available\n"
      ]
     },
     "metadata": {},
     "output_type": "display_data"
    }
   ],
   "source": [
    "from mostlyai.sdk import MostlyAI\n",
    "\n",
    "# initialize SDK\n",
    "mostly = MostlyAI()"
   ]
  },
  {
   "cell_type": "markdown",
   "id": "a327631d949c6643",
   "metadata": {},
   "source": [
    "## Train a Generator\n",
    "\n",
    "Train a synthetic data generator."
   ]
  },
  {
   "cell_type": "code",
   "execution_count": null,
   "id": "a5d3f2c5-b652-4655-bc9e-f266953d0052",
   "metadata": {},
   "outputs": [],
   "source": [
    "# train a generator, with defaults\n",
    "g = mostly.train(data=df_original)"
   ]
  },
  {
   "cell_type": "markdown",
   "id": "c4dbba68-6c2f-47ed-9f3b-68d2502d9596",
   "metadata": {},
   "source": [
    "## Generate Synthetic Data\n",
    "\n",
    "Probe for a single synthetic sample."
   ]
  },
  {
   "cell_type": "code",
   "execution_count": null,
   "id": "33032d43-e3c6-437d-b09a-715f6e20832c",
   "metadata": {},
   "outputs": [],
   "source": [
    "mostly.probe(g)"
   ]
  },
  {
   "cell_type": "markdown",
   "id": "d60bb18f-49fa-42dd-8091-096a41beaa29",
   "metadata": {},
   "source": [
    "Probe the trained generator for 100 representative synthetic samples."
   ]
  },
  {
   "cell_type": "code",
   "execution_count": null,
   "id": "e9f53af50c7084c7",
   "metadata": {},
   "outputs": [],
   "source": [
    "mostly.probe(g, size=100)"
   ]
  },
  {
   "cell_type": "markdown",
   "id": "4589c204-76c0-4563-8e8b-bc058395c537",
   "metadata": {},
   "source": [
    "Generate a larger scale representative synthetic dataset."
   ]
  },
  {
   "cell_type": "code",
   "execution_count": null,
   "id": "71da2e8867ae5b2a",
   "metadata": {},
   "outputs": [],
   "source": [
    "sd = mostly.generate(g, size=1_000_000)\n",
    "df_synthetic = sd.data()\n",
    "df_synthetic"
   ]
  },
  {
   "cell_type": "markdown",
   "id": "443b5ca7-8184-4fd6-9887-f6f090189f2d",
   "metadata": {},
   "source": [
    "Conditionally generate 1000 records of 70y old male citizens."
   ]
  },
  {
   "cell_type": "code",
   "execution_count": null,
   "id": "a149ceb4a9379cc6",
   "metadata": {},
   "outputs": [],
   "source": [
    "df_seed = pd.DataFrame(\n",
    "    {\n",
    "        \"age\": [70] * 1_000,\n",
    "        \"sex\": [\"Male\"] * 1_000,\n",
    "    }\n",
    ")\n",
    "# conditionally probe, based on provided seed\n",
    "df_samples = mostly.probe(g, seed=df_seed)\n",
    "df_samples"
   ]
  },
  {
   "cell_type": "markdown",
   "id": "b583687a-a992-4c49-b589-ad3f5c253015",
   "metadata": {},
   "source": [
    "## Quality Assurance\n",
    "\n",
    "Inspect the automated Quality Assurance report, to learn about the accuracy, similarity and novelty of the generated synthetic samples."
   ]
  },
  {
   "cell_type": "code",
   "execution_count": null,
   "id": "d9f66e9e-0d1a-4329-ae47-0b7feacbcbfc",
   "metadata": {},
   "outputs": [],
   "source": [
    "# display the quality assurance report\n",
    "g.reports(display=True)"
   ]
  },
  {
   "cell_type": "markdown",
   "id": "260a46c5-6efd-4b59-96ca-adaa19f4a847",
   "metadata": {},
   "source": [
    "## Export Generator\n",
    "\n",
    "Export the generator for further sharing with other SDK users. Plus, you can import zipped generators also to a MOSTLY AI platform."
   ]
  },
  {
   "cell_type": "code",
   "execution_count": null,
   "id": "a6a22d92-08bb-4cb5-8ed8-001f7fbd320a",
   "metadata": {},
   "outputs": [],
   "source": [
    "# export the generator\n",
    "g.export_to_file(\"census-generator.zip\")"
   ]
  },
  {
   "cell_type": "markdown",
   "id": "30f56bc9-a8a9-4492-9fd9-c55e82e8fd22",
   "metadata": {},
   "source": [
    "## Advanced Options\n",
    "\n",
    "Several configuration parameters are available that allow fine-grained control over the training of the generator. See `?mostly.train` for further examples. See [GeneratorConfig](https://mostly-ai.github.io/mostlyai/api_domain/#mostlyai.sdk.domain.GeneratorConfig) as well as [SourceTableConfig](https://mostly-ai.github.io/mostlyai/api_domain/#mostlyai.sdk.domain.SourceTableConfig) for all available configuration settings.\n",
    "\n",
    "The following example trains e.g. a differentially private generator, for a maximum of 2 minutes."
   ]
  },
  {
   "cell_type": "code",
   "execution_count": 3,
   "id": "dfa36a8f2a851f35",
   "metadata": {},
   "outputs": [
    {
     "data": {
      "text/html": [
       "<pre style=\"white-space:pre;overflow-x:auto;line-height:normal;font-family:Menlo,'DejaVu Sans Mono',consolas,'Courier New',monospace\">Created generator <span style=\"color: #005fff; text-decoration-color: #005fff\">4c36cdf1-eea5-47c2-b5e8-6893c66dc48e</span>\n",
       "</pre>\n"
      ],
      "text/plain": [
       "Created generator \u001b[38;5;27m4c36cdf1-eea5-47c2-b5e8-6893c66dc48e\u001b[0m\n"
      ]
     },
     "metadata": {},
     "output_type": "display_data"
    }
   ],
   "source": [
    "g = mostly.train(\n",
    "    config={\n",
    "        \"name\": \"Census\",  # name of the generator\n",
    "        \"tables\": [\n",
    "            {\n",
    "                \"name\": \"census\",\n",
    "                \"data\": df_original,\n",
    "                \"tabular_model_configuration\": {  # tabular model configuration (optional)\n",
    "                    # \"max_training_time\": 2,       # - limit training time (in minutes)\n",
    "                    # model, max_epochs,,..       # further model configurations (optional)\n",
    "                    # \"differential_privacy\": {     # differential privacy configuration (optional)\n",
    "                    #     \"max_epsilon\": 5.0,              # - max epsilon value, used as stopping criterion\n",
    "                    #     \"delta\": 1e-5,                   # - delta value for differentially private training (DP-SGD)\n",
    "                    #     \"noise_multiplier\": 1.5,         # - noise level for privacy for DP-SGD\n",
    "                    #     \"max_grad_norm\": 1.0,            # - maximum norm of the per-sample gradients for DP-SGD\n",
    "                    #     \"value_protection_epsilon\": 2.0, # - DP epsilon for determining value ranges / data domains\n",
    "                    # }\n",
    "                },\n",
    "                # columns, keys, compute,..        # further table configurations (optional)\n",
    "            }\n",
    "        ],\n",
    "    },\n",
    "    start=False,  # start training immediately (default: True)\n",
    "    wait=False,  # wait for completion (default: True)\n",
    ")"
   ]
  },
  {
   "cell_type": "code",
   "execution_count": 4,
   "id": "750e21a9-5f3f-47e6-b8a0-18137d41083c",
   "metadata": {},
   "outputs": [
    {
     "data": {
      "text/html": [
       "<pre style=\"white-space:pre;overflow-x:auto;line-height:normal;font-family:Menlo,'DejaVu Sans Mono',consolas,'Courier New',monospace\">Started generator training\n",
       "</pre>\n"
      ],
      "text/plain": [
       "Started generator training\n"
      ]
     },
     "metadata": {},
     "output_type": "display_data"
    }
   ],
   "source": [
    "# launch training asynchronously\n",
    "g.training.start()"
   ]
  },
  {
   "cell_type": "code",
   "execution_count": 8,
   "id": "64b1fe0f-0d5a-4937-ad86-02cdd6a74407",
   "metadata": {},
   "outputs": [
    {
     "data": {
      "text/plain": [
       "<ProgressStatus.in_progress: 'IN_PROGRESS'>"
      ]
     },
     "execution_count": 8,
     "metadata": {},
     "output_type": "execute_result"
    }
   ],
   "source": [
    "g.training_status"
   ]
  },
  {
   "cell_type": "code",
   "execution_count": 9,
   "id": "fe4af424-c7a4-4440-b032-6f37b2419d17",
   "metadata": {},
   "outputs": [
    {
     "data": {
      "application/vnd.jupyter.widget-view+json": {
       "model_id": "48321ac907924cdfa3e27a19a5c65556",
       "version_major": 2,
       "version_minor": 0
      },
      "text/plain": [
       "Output()"
      ]
     },
     "metadata": {},
     "output_type": "display_data"
    },
    {
     "data": {
      "text/html": [
       "<pre style=\"white-space:pre;overflow-x:auto;line-height:normal;font-family:Menlo,'DejaVu Sans Mono',consolas,'Courier New',monospace\"><span style=\"color: #800000; text-decoration-color: #800000\">Step census:tabular CREATE_MODEL_REPORT in_progress</span>\n",
       "</pre>\n"
      ],
      "text/plain": [
       "\u001b[31mStep census:tabular CREATE_MODEL_REPORT in_progress\u001b[0m\n"
      ]
     },
     "metadata": {},
     "output_type": "display_data"
    },
    {
     "data": {
      "text/html": [
       "<pre style=\"white-space:pre;overflow-x:auto;line-height:normal;font-family:Menlo,'DejaVu Sans Mono',consolas,'Courier New',monospace\"></pre>\n"
      ],
      "text/plain": []
     },
     "metadata": {},
     "output_type": "display_data"
    }
   ],
   "source": [
    "# observe training status\n",
    "g.training.wait()"
   ]
  },
  {
   "cell_type": "markdown",
   "id": "f959dbfe-1012-4495-b2ee-f79f2fe03b7a",
   "metadata": {},
   "source": [
    "## Conclusion\n",
    "\n",
    "This tutorial demonstrated the basic usage of the Synthetic Data SDK. You have successfully trained a generator from scratch, given the original data. And you have then used the generator to sample new records, according to your specifications.\n",
    "\n",
    "See the other tutorials for further exercises."
   ]
  }
 ],
 "metadata": {
  "kernelspec": {
   "display_name": "Python 3 (ipykernel)",
   "language": "python",
   "name": "python3"
  },
  "language_info": {
   "codemirror_mode": {
    "name": "ipython",
    "version": 3
   },
   "file_extension": ".py",
   "mimetype": "text/x-python",
   "name": "python",
   "nbconvert_exporter": "python",
   "pygments_lexer": "ipython3",
   "version": "3.10.16"
  }
 },
 "nbformat": 4,
 "nbformat_minor": 5
}
